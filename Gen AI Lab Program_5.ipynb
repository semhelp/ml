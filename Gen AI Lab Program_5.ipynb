{
 "cells": [
  {
   "cell_type": "code",
   "execution_count": 1,
   "id": "ba04b93a-a057-4c65-95ba-f8dfd263e24d",
   "metadata": {},
   "outputs": [
    {
     "name": "stderr",
     "output_type": "stream",
     "text": [
      "[nltk_data] Downloading package punkt to\n",
      "[nltk_data]     C:\\Users\\Shrey\\AppData\\Roaming\\nltk_data...\n",
      "[nltk_data]   Package punkt is already up-to-date!\n"
     ]
    },
    {
     "name": "stdout",
     "output_type": "stream",
     "text": [
      "Loading pre-trained word vectors...\n",
      "Word vectors loaded successfully!\n",
      "Generated Paragraph:\n",
      "\n",
      "In the zone of river, danube can be vital. The term river and valley is a common pair. The term river and valley is a common pair. The river is typically associated with rivers and creek. In the zone of river, danube can be vital.\n"
     ]
    }
   ],
   "source": [
    "# [1]\n",
    "import gensim.downloader as api\n",
    "import random\n",
    "import nltk\n",
    "from nltk.tokenize import sent_tokenize\n",
    "\n",
    "# [2]\n",
    "# Ensure required resources are downloaded\n",
    "nltk.download('punkt')\n",
    "\n",
    "# [3]\n",
    "# Load pre-trained word vectors\n",
    "print(\"Loading pre-trained word vectors...\")\n",
    "word_vectors = api.load(\"glove-wiki-gigaword-100\")  # 100D GloVe word embeddings\n",
    "print(\"Word vectors loaded successfully!\")\n",
    "\n",
    "# [4]\n",
    "def get_similar_words(seed_word, top_n=5):\n",
    "    \"\"\"Retrieve top-N similar words for a given seed word.\"\"\"\n",
    "    try:\n",
    "        similar_words = word_vectors.most_similar(seed_word, topn=top_n)\n",
    "        return [word for word, _ in similar_words]\n",
    "    except KeyError:\n",
    "        print(f\"'{seed_word}' not found in vocabulary. Try another word.\")\n",
    "        return []\n",
    "\n",
    "# [5]\n",
    "def generate_sentence(seed_word, similar_words):\n",
    "    \"\"\"Create a meaningful sentence using the seed word and its similar words.\"\"\"\n",
    "    sentence_templates = [\n",
    "        f\"The {seed_word} is typically associated with {similar_words[0]} and {similar_words[1]}.\",\n",
    "        f\"Most often, people link the term '{seed_word}' to {similar_words[2]}.\",\n",
    "        f\"The term {seed_word} and {similar_words[3]} is a common pair.\",\n",
    "        f\"In the zone of {seed_word}, {similar_words[4]} can be vital.\"\n",
    "    ]\n",
    "    # If fewer words retrieved, handle incomplete sentence\n",
    "    if len(similar_words) < 5:\n",
    "        print(f\"Warning: Could not find 5 similar words. Generated with {len(similar_words)}.\")\n",
    "    return random.choice(sentence_templates)\n",
    "\n",
    "# [6]\n",
    "def generate_paragraph(seed_word):\n",
    "    \"\"\"Construct a short paragraph using the seed word and its similar words.\"\"\"\n",
    "    similar_words = get_similar_words(seed_word, top_n=5)\n",
    "    if not similar_words:\n",
    "        return f\"Could not generate a paragraph. Try another seed word.\"\n",
    "    \n",
    "    return ' '.join(generate_sentence(seed_word, similar_words) for _ in range(5))\n",
    "\n",
    "# [7]\n",
    "# Example usage\n",
    "seed_word = 'river'  # seed word\n",
    "print(\"Generated Paragraph:\\n\")\n",
    "print(generate_paragraph(seed_word))\n"
   ]
  },
  {
   "cell_type": "code",
   "execution_count": null,
   "id": "7abb2e32-3899-4486-a11a-75b99cd5746c",
   "metadata": {},
   "outputs": [],
   "source": []
  }
 ],
 "metadata": {
  "kernelspec": {
   "display_name": "Python 3 (ipykernel)",
   "language": "python",
   "name": "python3"
  },
  "language_info": {
   "codemirror_mode": {
    "name": "ipython",
    "version": 3
   },
   "file_extension": ".py",
   "mimetype": "text/x-python",
   "name": "python",
   "nbconvert_exporter": "python",
   "pygments_lexer": "ipython3",
   "version": "3.12.7"
  }
 },
 "nbformat": 4,
 "nbformat_minor": 5
}
